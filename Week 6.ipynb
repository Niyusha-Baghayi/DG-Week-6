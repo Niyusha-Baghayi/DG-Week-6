{
 "cells": [
  {
   "cell_type": "markdown",
   "id": "alert-enforcement",
   "metadata": {
    "heading_collapsed": true
   },
   "source": [
    "# Imports"
   ]
  },
  {
   "cell_type": "code",
   "execution_count": 74,
   "id": "plastic-giving",
   "metadata": {
    "ExecuteTime": {
     "end_time": "2021-04-12T18:45:35.279131Z",
     "start_time": "2021-04-12T18:45:35.271132Z"
    },
    "hidden": true
   },
   "outputs": [],
   "source": [
    "import warnings\n",
    "warnings.filterwarnings('ignore')\n",
    "import pandas as pd\n",
    "import numpy as np\n",
    "import dask.dataframe as dd\n",
    "from pyspark.sql import SparkSession\n",
    "import multiprocessing as mp\n",
    "import csv\n",
    "import datatable as dt\n",
    "import yaml\n",
    "from box import Box\n",
    "import gzip\n",
    "import os\n",
    "from subprocess import check_call"
   ]
  },
  {
   "cell_type": "markdown",
   "id": "extreme-provision",
   "metadata": {},
   "source": [
    "# Check which solution is the best for reading data with 2GB+ size"
   ]
  },
  {
   "cell_type": "code",
   "execution_count": 2,
   "id": "manufactured-hawaiian",
   "metadata": {
    "ExecuteTime": {
     "end_time": "2021-04-04T17:16:12.933214Z",
     "start_time": "2021-04-04T17:13:38.208211Z"
    }
   },
   "outputs": [
    {
     "data": {
      "text/html": [
       "<div>\n",
       "<style scoped>\n",
       "    .dataframe tbody tr th:only-of-type {\n",
       "        vertical-align: middle;\n",
       "    }\n",
       "\n",
       "    .dataframe tbody tr th {\n",
       "        vertical-align: top;\n",
       "    }\n",
       "\n",
       "    .dataframe thead th {\n",
       "        text-align: right;\n",
       "    }\n",
       "</style>\n",
       "<table border=\"1\" class=\"dataframe\">\n",
       "  <thead>\n",
       "    <tr style=\"text-align: right;\">\n",
       "      <th></th>\n",
       "      <th>Summons Number</th>\n",
       "      <th>Plate ID</th>\n",
       "      <th>Registration State</th>\n",
       "      <th>Plate Type</th>\n",
       "      <th>Issue Date</th>\n",
       "      <th>Violation Code</th>\n",
       "      <th>Vehicle Body Type</th>\n",
       "      <th>Vehicle Make</th>\n",
       "      <th>Issuing Agency</th>\n",
       "      <th>Street Code1</th>\n",
       "      <th>...</th>\n",
       "      <th>Hydrant Violation</th>\n",
       "      <th>Double Parking Violation</th>\n",
       "      <th>Latitude</th>\n",
       "      <th>Longitude</th>\n",
       "      <th>Community Board</th>\n",
       "      <th>Community Council</th>\n",
       "      <th>Census Tract</th>\n",
       "      <th>BIN</th>\n",
       "      <th>BBL</th>\n",
       "      <th>NTA</th>\n",
       "    </tr>\n",
       "  </thead>\n",
       "  <tbody>\n",
       "    <tr>\n",
       "      <th>0</th>\n",
       "      <td>8002531292</td>\n",
       "      <td>EPC5238</td>\n",
       "      <td>NY</td>\n",
       "      <td>PAS</td>\n",
       "      <td>10/01/2014</td>\n",
       "      <td>21</td>\n",
       "      <td>SUBN</td>\n",
       "      <td>CHEVR</td>\n",
       "      <td>T</td>\n",
       "      <td>20390</td>\n",
       "      <td>...</td>\n",
       "      <td>NaN</td>\n",
       "      <td>NaN</td>\n",
       "      <td>NaN</td>\n",
       "      <td>NaN</td>\n",
       "      <td>NaN</td>\n",
       "      <td>NaN</td>\n",
       "      <td>NaN</td>\n",
       "      <td>NaN</td>\n",
       "      <td>NaN</td>\n",
       "      <td>NaN</td>\n",
       "    </tr>\n",
       "    <tr>\n",
       "      <th>1</th>\n",
       "      <td>8015318440</td>\n",
       "      <td>5298MD</td>\n",
       "      <td>NY</td>\n",
       "      <td>COM</td>\n",
       "      <td>03/06/2015</td>\n",
       "      <td>14</td>\n",
       "      <td>VAN</td>\n",
       "      <td>FRUEH</td>\n",
       "      <td>T</td>\n",
       "      <td>27790</td>\n",
       "      <td>...</td>\n",
       "      <td>NaN</td>\n",
       "      <td>NaN</td>\n",
       "      <td>NaN</td>\n",
       "      <td>NaN</td>\n",
       "      <td>NaN</td>\n",
       "      <td>NaN</td>\n",
       "      <td>NaN</td>\n",
       "      <td>NaN</td>\n",
       "      <td>NaN</td>\n",
       "      <td>NaN</td>\n",
       "    </tr>\n",
       "    <tr>\n",
       "      <th>2</th>\n",
       "      <td>7611181981</td>\n",
       "      <td>FYW2775</td>\n",
       "      <td>NY</td>\n",
       "      <td>PAS</td>\n",
       "      <td>07/28/2014</td>\n",
       "      <td>46</td>\n",
       "      <td>SUBN</td>\n",
       "      <td>SUBAR</td>\n",
       "      <td>T</td>\n",
       "      <td>8130</td>\n",
       "      <td>...</td>\n",
       "      <td>NaN</td>\n",
       "      <td>NaN</td>\n",
       "      <td>NaN</td>\n",
       "      <td>NaN</td>\n",
       "      <td>NaN</td>\n",
       "      <td>NaN</td>\n",
       "      <td>NaN</td>\n",
       "      <td>NaN</td>\n",
       "      <td>NaN</td>\n",
       "      <td>NaN</td>\n",
       "    </tr>\n",
       "    <tr>\n",
       "      <th>3</th>\n",
       "      <td>7445908067</td>\n",
       "      <td>GWE1987</td>\n",
       "      <td>NY</td>\n",
       "      <td>PAS</td>\n",
       "      <td>04/13/2015</td>\n",
       "      <td>19</td>\n",
       "      <td>4DSD</td>\n",
       "      <td>LEXUS</td>\n",
       "      <td>T</td>\n",
       "      <td>59990</td>\n",
       "      <td>...</td>\n",
       "      <td>NaN</td>\n",
       "      <td>NaN</td>\n",
       "      <td>NaN</td>\n",
       "      <td>NaN</td>\n",
       "      <td>NaN</td>\n",
       "      <td>NaN</td>\n",
       "      <td>NaN</td>\n",
       "      <td>NaN</td>\n",
       "      <td>NaN</td>\n",
       "      <td>NaN</td>\n",
       "    </tr>\n",
       "    <tr>\n",
       "      <th>4</th>\n",
       "      <td>7037692864</td>\n",
       "      <td>T671196C</td>\n",
       "      <td>NY</td>\n",
       "      <td>PAS</td>\n",
       "      <td>05/19/2015</td>\n",
       "      <td>19</td>\n",
       "      <td>4DSD</td>\n",
       "      <td>CHRYS</td>\n",
       "      <td>T</td>\n",
       "      <td>36090</td>\n",
       "      <td>...</td>\n",
       "      <td>NaN</td>\n",
       "      <td>NaN</td>\n",
       "      <td>NaN</td>\n",
       "      <td>NaN</td>\n",
       "      <td>NaN</td>\n",
       "      <td>NaN</td>\n",
       "      <td>NaN</td>\n",
       "      <td>NaN</td>\n",
       "      <td>NaN</td>\n",
       "      <td>NaN</td>\n",
       "    </tr>\n",
       "  </tbody>\n",
       "</table>\n",
       "<p>5 rows × 51 columns</p>\n",
       "</div>"
      ],
      "text/plain": [
       "   Summons Number  Plate ID Registration State Plate Type  Issue Date  \\\n",
       "0      8002531292   EPC5238                 NY        PAS  10/01/2014   \n",
       "1      8015318440    5298MD                 NY        COM  03/06/2015   \n",
       "2      7611181981   FYW2775                 NY        PAS  07/28/2014   \n",
       "3      7445908067   GWE1987                 NY        PAS  04/13/2015   \n",
       "4      7037692864  T671196C                 NY        PAS  05/19/2015   \n",
       "\n",
       "   Violation Code Vehicle Body Type Vehicle Make Issuing Agency  Street Code1  \\\n",
       "0              21              SUBN        CHEVR              T         20390   \n",
       "1              14               VAN        FRUEH              T         27790   \n",
       "2              46              SUBN        SUBAR              T          8130   \n",
       "3              19              4DSD        LEXUS              T         59990   \n",
       "4              19              4DSD        CHRYS              T         36090   \n",
       "\n",
       "   ...  Hydrant Violation  Double Parking Violation Latitude  Longitude  \\\n",
       "0  ...                NaN                       NaN      NaN        NaN   \n",
       "1  ...                NaN                       NaN      NaN        NaN   \n",
       "2  ...                NaN                       NaN      NaN        NaN   \n",
       "3  ...                NaN                       NaN      NaN        NaN   \n",
       "4  ...                NaN                       NaN      NaN        NaN   \n",
       "\n",
       "   Community Board  Community Council   Census Tract BIN BBL NTA  \n",
       "0              NaN                 NaN           NaN NaN NaN NaN  \n",
       "1              NaN                 NaN           NaN NaN NaN NaN  \n",
       "2              NaN                 NaN           NaN NaN NaN NaN  \n",
       "3              NaN                 NaN           NaN NaN NaN NaN  \n",
       "4              NaN                 NaN           NaN NaN NaN NaN  \n",
       "\n",
       "[5 rows x 51 columns]"
      ]
     },
     "execution_count": 2,
     "metadata": {},
     "output_type": "execute_result"
    }
   ],
   "source": [
    "df_pandas = pd.read_csv(\"Parking_2015.csv\")\n",
    "df_pandas.head()"
   ]
  },
  {
   "cell_type": "code",
   "execution_count": 3,
   "id": "intimate-advertiser",
   "metadata": {
    "ExecuteTime": {
     "end_time": "2021-04-04T17:19:11.963790Z",
     "start_time": "2021-04-04T17:16:12.951207Z"
    }
   },
   "outputs": [
    {
     "data": {
      "text/html": [
       "<div>\n",
       "<style scoped>\n",
       "    .dataframe tbody tr th:only-of-type {\n",
       "        vertical-align: middle;\n",
       "    }\n",
       "\n",
       "    .dataframe tbody tr th {\n",
       "        vertical-align: top;\n",
       "    }\n",
       "\n",
       "    .dataframe thead th {\n",
       "        text-align: right;\n",
       "    }\n",
       "</style>\n",
       "<table border=\"1\" class=\"dataframe\">\n",
       "  <thead>\n",
       "    <tr style=\"text-align: right;\">\n",
       "      <th></th>\n",
       "      <th>Summons Number</th>\n",
       "      <th>Plate ID</th>\n",
       "      <th>Registration State</th>\n",
       "      <th>Plate Type</th>\n",
       "      <th>Issue Date</th>\n",
       "      <th>Violation Code</th>\n",
       "      <th>Vehicle Body Type</th>\n",
       "      <th>Vehicle Make</th>\n",
       "      <th>Issuing Agency</th>\n",
       "      <th>Street Code1</th>\n",
       "      <th>...</th>\n",
       "      <th>Hydrant Violation</th>\n",
       "      <th>Double Parking Violation</th>\n",
       "      <th>Latitude</th>\n",
       "      <th>Longitude</th>\n",
       "      <th>Community Board</th>\n",
       "      <th>Community Council</th>\n",
       "      <th>Census Tract</th>\n",
       "      <th>BIN</th>\n",
       "      <th>BBL</th>\n",
       "      <th>NTA</th>\n",
       "    </tr>\n",
       "  </thead>\n",
       "  <tbody>\n",
       "    <tr>\n",
       "      <th>0</th>\n",
       "      <td>8002531292</td>\n",
       "      <td>EPC5238</td>\n",
       "      <td>NY</td>\n",
       "      <td>PAS</td>\n",
       "      <td>10/01/2014</td>\n",
       "      <td>21</td>\n",
       "      <td>SUBN</td>\n",
       "      <td>CHEVR</td>\n",
       "      <td>T</td>\n",
       "      <td>20390</td>\n",
       "      <td>...</td>\n",
       "      <td>NaN</td>\n",
       "      <td>NaN</td>\n",
       "      <td>NaN</td>\n",
       "      <td>NaN</td>\n",
       "      <td>NaN</td>\n",
       "      <td>NaN</td>\n",
       "      <td>NaN</td>\n",
       "      <td>NaN</td>\n",
       "      <td>NaN</td>\n",
       "      <td>NaN</td>\n",
       "    </tr>\n",
       "    <tr>\n",
       "      <th>1</th>\n",
       "      <td>8015318440</td>\n",
       "      <td>5298MD</td>\n",
       "      <td>NY</td>\n",
       "      <td>COM</td>\n",
       "      <td>03/06/2015</td>\n",
       "      <td>14</td>\n",
       "      <td>VAN</td>\n",
       "      <td>FRUEH</td>\n",
       "      <td>T</td>\n",
       "      <td>27790</td>\n",
       "      <td>...</td>\n",
       "      <td>NaN</td>\n",
       "      <td>NaN</td>\n",
       "      <td>NaN</td>\n",
       "      <td>NaN</td>\n",
       "      <td>NaN</td>\n",
       "      <td>NaN</td>\n",
       "      <td>NaN</td>\n",
       "      <td>NaN</td>\n",
       "      <td>NaN</td>\n",
       "      <td>NaN</td>\n",
       "    </tr>\n",
       "    <tr>\n",
       "      <th>2</th>\n",
       "      <td>7611181981</td>\n",
       "      <td>FYW2775</td>\n",
       "      <td>NY</td>\n",
       "      <td>PAS</td>\n",
       "      <td>07/28/2014</td>\n",
       "      <td>46</td>\n",
       "      <td>SUBN</td>\n",
       "      <td>SUBAR</td>\n",
       "      <td>T</td>\n",
       "      <td>8130</td>\n",
       "      <td>...</td>\n",
       "      <td>NaN</td>\n",
       "      <td>NaN</td>\n",
       "      <td>NaN</td>\n",
       "      <td>NaN</td>\n",
       "      <td>NaN</td>\n",
       "      <td>NaN</td>\n",
       "      <td>NaN</td>\n",
       "      <td>NaN</td>\n",
       "      <td>NaN</td>\n",
       "      <td>NaN</td>\n",
       "    </tr>\n",
       "    <tr>\n",
       "      <th>3</th>\n",
       "      <td>7445908067</td>\n",
       "      <td>GWE1987</td>\n",
       "      <td>NY</td>\n",
       "      <td>PAS</td>\n",
       "      <td>04/13/2015</td>\n",
       "      <td>19</td>\n",
       "      <td>4DSD</td>\n",
       "      <td>LEXUS</td>\n",
       "      <td>T</td>\n",
       "      <td>59990</td>\n",
       "      <td>...</td>\n",
       "      <td>NaN</td>\n",
       "      <td>NaN</td>\n",
       "      <td>NaN</td>\n",
       "      <td>NaN</td>\n",
       "      <td>NaN</td>\n",
       "      <td>NaN</td>\n",
       "      <td>NaN</td>\n",
       "      <td>NaN</td>\n",
       "      <td>NaN</td>\n",
       "      <td>NaN</td>\n",
       "    </tr>\n",
       "    <tr>\n",
       "      <th>4</th>\n",
       "      <td>7037692864</td>\n",
       "      <td>T671196C</td>\n",
       "      <td>NY</td>\n",
       "      <td>PAS</td>\n",
       "      <td>05/19/2015</td>\n",
       "      <td>19</td>\n",
       "      <td>4DSD</td>\n",
       "      <td>CHRYS</td>\n",
       "      <td>T</td>\n",
       "      <td>36090</td>\n",
       "      <td>...</td>\n",
       "      <td>NaN</td>\n",
       "      <td>NaN</td>\n",
       "      <td>NaN</td>\n",
       "      <td>NaN</td>\n",
       "      <td>NaN</td>\n",
       "      <td>NaN</td>\n",
       "      <td>NaN</td>\n",
       "      <td>NaN</td>\n",
       "      <td>NaN</td>\n",
       "      <td>NaN</td>\n",
       "    </tr>\n",
       "  </tbody>\n",
       "</table>\n",
       "<p>5 rows × 51 columns</p>\n",
       "</div>"
      ],
      "text/plain": [
       "   Summons Number  Plate ID Registration State Plate Type  Issue Date  \\\n",
       "0      8002531292   EPC5238                 NY        PAS  10/01/2014   \n",
       "1      8015318440    5298MD                 NY        COM  03/06/2015   \n",
       "2      7611181981   FYW2775                 NY        PAS  07/28/2014   \n",
       "3      7445908067   GWE1987                 NY        PAS  04/13/2015   \n",
       "4      7037692864  T671196C                 NY        PAS  05/19/2015   \n",
       "\n",
       "   Violation Code Vehicle Body Type Vehicle Make Issuing Agency  Street Code1  \\\n",
       "0              21              SUBN        CHEVR              T         20390   \n",
       "1              14               VAN        FRUEH              T         27790   \n",
       "2              46              SUBN        SUBAR              T          8130   \n",
       "3              19              4DSD        LEXUS              T         59990   \n",
       "4              19              4DSD        CHRYS              T         36090   \n",
       "\n",
       "   ...  Hydrant Violation  Double Parking Violation Latitude  Longitude  \\\n",
       "0  ...                NaN                       NaN      NaN        NaN   \n",
       "1  ...                NaN                       NaN      NaN        NaN   \n",
       "2  ...                NaN                       NaN      NaN        NaN   \n",
       "3  ...                NaN                       NaN      NaN        NaN   \n",
       "4  ...                NaN                       NaN      NaN        NaN   \n",
       "\n",
       "   Community Board  Community Council   Census Tract BIN BBL NTA  \n",
       "0              NaN                 NaN           NaN NaN NaN NaN  \n",
       "1              NaN                 NaN           NaN NaN NaN NaN  \n",
       "2              NaN                 NaN           NaN NaN NaN NaN  \n",
       "3              NaN                 NaN           NaN NaN NaN NaN  \n",
       "4              NaN                 NaN           NaN NaN NaN NaN  \n",
       "\n",
       "[5 rows x 51 columns]"
      ]
     },
     "execution_count": 3,
     "metadata": {},
     "output_type": "execute_result"
    }
   ],
   "source": [
    "chunks = pd.read_csv(\"Parking_2015.csv\", chunksize=100000)\n",
    "df_pandas_chunks = pd.concat(chunks)\n",
    "df_pandas_chunks.head()"
   ]
  },
  {
   "cell_type": "code",
   "execution_count": 4,
   "id": "plain-netscape",
   "metadata": {
    "ExecuteTime": {
     "end_time": "2021-04-04T17:19:28.279786Z",
     "start_time": "2021-04-04T17:19:11.981787Z"
    }
   },
   "outputs": [
    {
     "data": {
      "text/html": [
       "<div>\n",
       "<style scoped>\n",
       "    .dataframe tbody tr th:only-of-type {\n",
       "        vertical-align: middle;\n",
       "    }\n",
       "\n",
       "    .dataframe tbody tr th {\n",
       "        vertical-align: top;\n",
       "    }\n",
       "\n",
       "    .dataframe thead th {\n",
       "        text-align: right;\n",
       "    }\n",
       "</style>\n",
       "<table border=\"1\" class=\"dataframe\">\n",
       "  <thead>\n",
       "    <tr style=\"text-align: right;\">\n",
       "      <th></th>\n",
       "      <th>Summons Number</th>\n",
       "      <th>Plate ID</th>\n",
       "      <th>Registration State</th>\n",
       "      <th>Plate Type</th>\n",
       "      <th>Issue Date</th>\n",
       "      <th>Violation Code</th>\n",
       "      <th>Vehicle Body Type</th>\n",
       "      <th>Vehicle Make</th>\n",
       "      <th>Issuing Agency</th>\n",
       "      <th>Street Code1</th>\n",
       "      <th>...</th>\n",
       "      <th>Hydrant Violation</th>\n",
       "      <th>Double Parking Violation</th>\n",
       "      <th>Latitude</th>\n",
       "      <th>Longitude</th>\n",
       "      <th>Community Board</th>\n",
       "      <th>Community Council</th>\n",
       "      <th>Census Tract</th>\n",
       "      <th>BIN</th>\n",
       "      <th>BBL</th>\n",
       "      <th>NTA</th>\n",
       "    </tr>\n",
       "  </thead>\n",
       "  <tbody>\n",
       "    <tr>\n",
       "      <th>0</th>\n",
       "      <td>8002531292</td>\n",
       "      <td>EPC5238</td>\n",
       "      <td>NY</td>\n",
       "      <td>PAS</td>\n",
       "      <td>10/01/2014</td>\n",
       "      <td>21</td>\n",
       "      <td>SUBN</td>\n",
       "      <td>CHEVR</td>\n",
       "      <td>T</td>\n",
       "      <td>20390</td>\n",
       "      <td>...</td>\n",
       "      <td>NaN</td>\n",
       "      <td>NaN</td>\n",
       "      <td>NaN</td>\n",
       "      <td>NaN</td>\n",
       "      <td>NaN</td>\n",
       "      <td>NaN</td>\n",
       "      <td>NaN</td>\n",
       "      <td>NaN</td>\n",
       "      <td>NaN</td>\n",
       "      <td>NaN</td>\n",
       "    </tr>\n",
       "    <tr>\n",
       "      <th>1</th>\n",
       "      <td>8015318440</td>\n",
       "      <td>5298MD</td>\n",
       "      <td>NY</td>\n",
       "      <td>COM</td>\n",
       "      <td>03/06/2015</td>\n",
       "      <td>14</td>\n",
       "      <td>VAN</td>\n",
       "      <td>FRUEH</td>\n",
       "      <td>T</td>\n",
       "      <td>27790</td>\n",
       "      <td>...</td>\n",
       "      <td>NaN</td>\n",
       "      <td>NaN</td>\n",
       "      <td>NaN</td>\n",
       "      <td>NaN</td>\n",
       "      <td>NaN</td>\n",
       "      <td>NaN</td>\n",
       "      <td>NaN</td>\n",
       "      <td>NaN</td>\n",
       "      <td>NaN</td>\n",
       "      <td>NaN</td>\n",
       "    </tr>\n",
       "    <tr>\n",
       "      <th>2</th>\n",
       "      <td>7611181981</td>\n",
       "      <td>FYW2775</td>\n",
       "      <td>NY</td>\n",
       "      <td>PAS</td>\n",
       "      <td>07/28/2014</td>\n",
       "      <td>46</td>\n",
       "      <td>SUBN</td>\n",
       "      <td>SUBAR</td>\n",
       "      <td>T</td>\n",
       "      <td>8130</td>\n",
       "      <td>...</td>\n",
       "      <td>NaN</td>\n",
       "      <td>NaN</td>\n",
       "      <td>NaN</td>\n",
       "      <td>NaN</td>\n",
       "      <td>NaN</td>\n",
       "      <td>NaN</td>\n",
       "      <td>NaN</td>\n",
       "      <td>NaN</td>\n",
       "      <td>NaN</td>\n",
       "      <td>NaN</td>\n",
       "    </tr>\n",
       "    <tr>\n",
       "      <th>3</th>\n",
       "      <td>7445908067</td>\n",
       "      <td>GWE1987</td>\n",
       "      <td>NY</td>\n",
       "      <td>PAS</td>\n",
       "      <td>04/13/2015</td>\n",
       "      <td>19</td>\n",
       "      <td>4DSD</td>\n",
       "      <td>LEXUS</td>\n",
       "      <td>T</td>\n",
       "      <td>59990</td>\n",
       "      <td>...</td>\n",
       "      <td>NaN</td>\n",
       "      <td>NaN</td>\n",
       "      <td>NaN</td>\n",
       "      <td>NaN</td>\n",
       "      <td>NaN</td>\n",
       "      <td>NaN</td>\n",
       "      <td>NaN</td>\n",
       "      <td>NaN</td>\n",
       "      <td>NaN</td>\n",
       "      <td>NaN</td>\n",
       "    </tr>\n",
       "    <tr>\n",
       "      <th>4</th>\n",
       "      <td>7037692864</td>\n",
       "      <td>T671196C</td>\n",
       "      <td>NY</td>\n",
       "      <td>PAS</td>\n",
       "      <td>05/19/2015</td>\n",
       "      <td>19</td>\n",
       "      <td>4DSD</td>\n",
       "      <td>CHRYS</td>\n",
       "      <td>T</td>\n",
       "      <td>36090</td>\n",
       "      <td>...</td>\n",
       "      <td>NaN</td>\n",
       "      <td>NaN</td>\n",
       "      <td>NaN</td>\n",
       "      <td>NaN</td>\n",
       "      <td>NaN</td>\n",
       "      <td>NaN</td>\n",
       "      <td>NaN</td>\n",
       "      <td>NaN</td>\n",
       "      <td>NaN</td>\n",
       "      <td>NaN</td>\n",
       "    </tr>\n",
       "  </tbody>\n",
       "</table>\n",
       "<p>5 rows × 51 columns</p>\n",
       "</div>"
      ],
      "text/plain": [
       "   Summons Number  Plate ID Registration State Plate Type  Issue Date  \\\n",
       "0      8002531292   EPC5238                 NY        PAS  10/01/2014   \n",
       "1      8015318440    5298MD                 NY        COM  03/06/2015   \n",
       "2      7611181981   FYW2775                 NY        PAS  07/28/2014   \n",
       "3      7445908067   GWE1987                 NY        PAS  04/13/2015   \n",
       "4      7037692864  T671196C                 NY        PAS  05/19/2015   \n",
       "\n",
       "   Violation Code Vehicle Body Type Vehicle Make Issuing Agency  Street Code1  \\\n",
       "0              21              SUBN        CHEVR              T         20390   \n",
       "1              14               VAN        FRUEH              T         27790   \n",
       "2              46              SUBN        SUBAR              T          8130   \n",
       "3              19              4DSD        LEXUS              T         59990   \n",
       "4              19              4DSD        CHRYS              T         36090   \n",
       "\n",
       "   ...  Hydrant Violation  Double Parking Violation Latitude  Longitude  \\\n",
       "0  ...                NaN                       NaN      NaN        NaN   \n",
       "1  ...                NaN                       NaN      NaN        NaN   \n",
       "2  ...                NaN                       NaN      NaN        NaN   \n",
       "3  ...                NaN                       NaN      NaN        NaN   \n",
       "4  ...                NaN                       NaN      NaN        NaN   \n",
       "\n",
       "   Community Board  Community Council   Census Tract BIN BBL NTA  \n",
       "0              NaN                 NaN           NaN NaN NaN NaN  \n",
       "1              NaN                 NaN           NaN NaN NaN NaN  \n",
       "2              NaN                 NaN           NaN NaN NaN NaN  \n",
       "3              NaN                 NaN           NaN NaN NaN NaN  \n",
       "4              NaN                 NaN           NaN NaN NaN NaN  \n",
       "\n",
       "[5 rows x 51 columns]"
      ]
     },
     "execution_count": 4,
     "metadata": {},
     "output_type": "execute_result"
    }
   ],
   "source": [
    "df_dask = dd.read_csv(\"Parking_2015.csv\")\n",
    "df_dask.head()"
   ]
  },
  {
   "cell_type": "code",
   "execution_count": 5,
   "id": "prepared-carrier",
   "metadata": {
    "ExecuteTime": {
     "end_time": "2021-04-04T17:20:36.594736Z",
     "start_time": "2021-04-04T17:19:28.283792Z"
    }
   },
   "outputs": [
    {
     "name": "stdout",
     "output_type": "stream",
     "text": [
      "+--------------+--------+------------------+----------+----------+--------------+-----------------+------------+--------------+------------+------------+------------+-----------------------+------------------+------------------+---------------+-----------+--------------+------------+--------------+-------------------+----------------+---------------------------------+------------+-----------+-------------------+--------------------+-----------+------------+--------------------+--------------------------+--------------------+------------------+-------------+---------------------+------------+------------+--------------+-------------------+---------------------+---------------------------------+-----------------+------------------------+--------+---------+---------------+------------------+------------+----+----+----+\n",
      "|Summons Number|Plate ID|Registration State|Plate Type|Issue Date|Violation Code|Vehicle Body Type|Vehicle Make|Issuing Agency|Street Code1|Street Code2|Street Code3|Vehicle Expiration Date|Violation Location|Violation Precinct|Issuer Precinct|Issuer Code|Issuer Command|Issuer Squad|Violation Time|Time First Observed|Violation County|Violation In Front Of Or Opposite|House Number|Street Name|Intersecting Street| Date First Observed|Law Section|Sub Division|Violation Legal Code|Days Parking In Effect    |From Hours In Effect|To Hours In Effect|Vehicle Color|Unregistered Vehicle?|Vehicle Year|Meter Number|Feet From Curb|Violation Post Code|Violation Description|No Standing or Stopping Violation|Hydrant Violation|Double Parking Violation|Latitude|Longitude|Community Board|Community Council |Census Tract| BIN| BBL| NTA|\n",
      "+--------------+--------+------------------+----------+----------+--------------+-----------------+------------+--------------+------------+------------+------------+-----------------------+------------------+------------------+---------------+-----------+--------------+------------+--------------+-------------------+----------------+---------------------------------+------------+-----------+-------------------+--------------------+-----------+------------+--------------------+--------------------------+--------------------+------------------+-------------+---------------------+------------+------------+--------------+-------------------+---------------------+---------------------------------+-----------------+------------------------+--------+---------+---------------+------------------+------------+----+----+----+\n",
      "|    8002531292| EPC5238|                NY|       PAS|10/01/2014|            21|             SUBN|       CHEVR|             T|       20390|       29890|       31490|   01/01/20150111 12...|                 7|                 7|              7|     345454|          T800|          A2|         0011A|               null|              NY|                                F|         133|   Essex St|               null|01/05/0001 12:00:...|        408|          d1|                null|                     Y Y Y|               1200A|             0300A|           BL|                 null|        2005|        null|             0|               A 77| 21-No Parking (st...|                             null|             null|                    null|    null|     null|           null|              null|        null|null|null|null|\n",
      "|    8015318440|  5298MD|                NY|       COM|03/06/2015|            14|              VAN|       FRUEH|             T|       27790|       19550|       19570|   01/01/88888888 12...|                25|                25|             25|     333386|          T103|           B|         0942A|               null|              NY|                                F|        1916|   Park Ave|               null|01/05/0001 12:00:...|        408|           c|                null|                     YYYYY|               0700A|             1000A|        BROWN|                 null|           0|        null|             0|                CC3|       14-No Standing|                             null|             null|                    null|    null|     null|           null|              null|        null|null|null|null|\n",
      "|    7611181981| FYW2775|                NY|       PAS|07/28/2014|            46|             SUBN|       SUBAR|             T|        8130|        5430|        5580|   01/01/20160524 12...|                72|                72|             72|     331845|          T302|           L|         1020A|               null|               K|                                F|         184|    31st St|               null|01/05/0001 12:00:...|        408|          f1|                null|                      null|                null|              null|        BLACK|                 null|        2010|        null|             0|               J 32| 46A-Double Parkin...|                             null|             null|                    null|    null|     null|           null|              null|        null|null|null|null|\n",
      "|    7445908067| GWE1987|                NY|       PAS|04/13/2015|            19|             4DSD|       LEXUS|             T|       59990|       16540|       16790|   01/01/20170111 12...|               102|               102|            102|     355669|          T402|           D|         0318P|               null|               Q|                                F|      120-20|Queens Blvd|               null|01/05/0001 12:00:...|        408|          c3|                null|                     YYYYY|               0300P|             1000P|           GY|                 null|        2015|        null|             0|               01 4| 19-No Stand (bus ...|                             null|             null|                    null|    null|     null|           null|              null|        null|null|null|null|\n",
      "|    7037692864|T671196C|                NY|       PAS|05/19/2015|            19|             4DSD|       CHRYS|             T|       36090|       10410|       24690|   01/01/88888888 12...|                28|                28|             28|     341248|          T103|           X|         0410P|               null|              NY|                                F|          66| W 116th St|               null|01/05/0001 12:00:...|        408|          c3|                null|                   YYYYYYY|                null|              null|        BLACK|                 null|           0|        null|             0|               19 7| 19-No Stand (bus ...|                             null|             null|                    null|    null|     null|           null|              null|        null|null|null|null|\n",
      "+--------------+--------+------------------+----------+----------+--------------+-----------------+------------+--------------+------------+------------+------------+-----------------------+------------------+------------------+---------------+-----------+--------------+------------+--------------+-------------------+----------------+---------------------------------+------------+-----------+-------------------+--------------------+-----------+------------+--------------------+--------------------------+--------------------+------------------+-------------+---------------------+------------+------------+--------------+-------------------+---------------------+---------------------------------+-----------------+------------------------+--------+---------+---------------+------------------+------------+----+----+----+\n",
      "only showing top 5 rows\n",
      "\n"
     ]
    }
   ],
   "source": [
    "spark = SparkSession \\\n",
    "    .builder \\\n",
    "    .appName(\"Exploratory Analysis\") \\\n",
    "    .getOrCreate()\n",
    "\n",
    "parking = spark.read.format(\"csv\").option(\"header\", \"true\").option(\"inferSchema\", \"true\").load(\"Parking_2015.csv\")\n",
    "parking.show(5)"
   ]
  },
  {
   "cell_type": "code",
   "execution_count": 6,
   "id": "recorded-indie",
   "metadata": {
    "ExecuteTime": {
     "end_time": "2021-04-04T17:24:39.224891Z",
     "start_time": "2021-04-04T17:20:36.602741Z"
    }
   },
   "outputs": [
    {
     "name": "stdout",
     "output_type": "stream",
     "text": [
      "11809233\n",
      "Wall time: 4min 2s\n"
     ]
    }
   ],
   "source": [
    "%%time\n",
    "\n",
    "df_mp = pd.read_csv(\"Parking_2015.csv\", chunksize=1000)\n",
    "total_length = 0\n",
    "for chunk in df_mp:\n",
    "    total_length += len(chunk)\n",
    "print(total_length)"
   ]
  },
  {
   "cell_type": "code",
   "execution_count": 7,
   "id": "focused-permit",
   "metadata": {
    "ExecuteTime": {
     "end_time": "2021-04-04T17:24:39.287878Z",
     "start_time": "2021-04-04T17:24:39.275880Z"
    }
   },
   "outputs": [
    {
     "name": "stdout",
     "output_type": "stream",
     "text": [
      "{'Summons Number': '8002531292', 'Plate ID': 'EPC5238', 'Registration State': 'NY', 'Plate Type': 'PAS', 'Issue Date': '10/01/2014', 'Violation Code': '21', 'Vehicle Body Type': 'SUBN', 'Vehicle Make': 'CHEVR', 'Issuing Agency': 'T', 'Street Code1': '20390', 'Street Code2': '29890', 'Street Code3': '31490', 'Vehicle Expiration Date': '01/01/20150111 12:00:00 PM', 'Violation Location': '0007', 'Violation Precinct': '7', 'Issuer Precinct': '7', 'Issuer Code': '345454', 'Issuer Command': 'T800', 'Issuer Squad': 'A2', 'Violation Time': '0011A', 'Time First Observed': '', 'Violation County': 'NY', 'Violation In Front Of Or Opposite': 'F', 'House Number': '133', 'Street Name': 'Essex St', 'Intersecting Street': '', 'Date First Observed': '01/05/0001 12:00:00 PM', 'Law Section': '408', 'Sub Division': 'd1', 'Violation Legal Code': '', 'Days Parking In Effect    ': 'Y Y Y', 'From Hours In Effect': '1200A', 'To Hours In Effect': '0300A', 'Vehicle Color': 'BL', 'Unregistered Vehicle?': '', 'Vehicle Year': '2005', 'Meter Number': '', 'Feet From Curb': '0', 'Violation Post Code': 'A 77', 'Violation Description': '21-No Parking (street clean)', 'No Standing or Stopping Violation': '', 'Hydrant Violation': '', 'Double Parking Violation': '', 'Latitude': '', 'Longitude': '', 'Community Board': '', 'Community Council ': '', 'Census Tract': '', 'BIN': '', 'BBL': '', 'NTA': ''}\n",
      "{'Summons Number': '8015318440', 'Plate ID': '5298MD', 'Registration State': 'NY', 'Plate Type': 'COM', 'Issue Date': '03/06/2015', 'Violation Code': '14', 'Vehicle Body Type': 'VAN', 'Vehicle Make': 'FRUEH', 'Issuing Agency': 'T', 'Street Code1': '27790', 'Street Code2': '19550', 'Street Code3': '19570', 'Vehicle Expiration Date': '01/01/88888888 12:00:00 PM', 'Violation Location': '0025', 'Violation Precinct': '25', 'Issuer Precinct': '25', 'Issuer Code': '333386', 'Issuer Command': 'T103', 'Issuer Squad': 'B', 'Violation Time': '0942A', 'Time First Observed': '', 'Violation County': 'NY', 'Violation In Front Of Or Opposite': 'F', 'House Number': '1916', 'Street Name': 'Park Ave', 'Intersecting Street': '', 'Date First Observed': '01/05/0001 12:00:00 PM', 'Law Section': '408', 'Sub Division': 'c', 'Violation Legal Code': '', 'Days Parking In Effect    ': 'YYYYY', 'From Hours In Effect': '0700A', 'To Hours In Effect': '1000A', 'Vehicle Color': 'BROWN', 'Unregistered Vehicle?': '', 'Vehicle Year': '0', 'Meter Number': '', 'Feet From Curb': '0', 'Violation Post Code': 'CC3', 'Violation Description': '14-No Standing', 'No Standing or Stopping Violation': '', 'Hydrant Violation': '', 'Double Parking Violation': '', 'Latitude': '', 'Longitude': '', 'Community Board': '', 'Community Council ': '', 'Census Tract': '', 'BIN': '', 'BBL': '', 'NTA': ''}\n",
      "{'Summons Number': '7611181981', 'Plate ID': 'FYW2775', 'Registration State': 'NY', 'Plate Type': 'PAS', 'Issue Date': '07/28/2014', 'Violation Code': '46', 'Vehicle Body Type': 'SUBN', 'Vehicle Make': 'SUBAR', 'Issuing Agency': 'T', 'Street Code1': '8130', 'Street Code2': '5430', 'Street Code3': '5580', 'Vehicle Expiration Date': '01/01/20160524 12:00:00 PM', 'Violation Location': '0072', 'Violation Precinct': '72', 'Issuer Precinct': '72', 'Issuer Code': '331845', 'Issuer Command': 'T302', 'Issuer Squad': 'L', 'Violation Time': '1020A', 'Time First Observed': '', 'Violation County': 'K', 'Violation In Front Of Or Opposite': 'F', 'House Number': '184', 'Street Name': '31st St', 'Intersecting Street': '', 'Date First Observed': '01/05/0001 12:00:00 PM', 'Law Section': '408', 'Sub Division': 'f1', 'Violation Legal Code': '', 'Days Parking In Effect    ': '', 'From Hours In Effect': '', 'To Hours In Effect': '', 'Vehicle Color': 'BLACK', 'Unregistered Vehicle?': '', 'Vehicle Year': '2010', 'Meter Number': '', 'Feet From Curb': '0', 'Violation Post Code': 'J 32', 'Violation Description': '46A-Double Parking (Non-COM)', 'No Standing or Stopping Violation': '', 'Hydrant Violation': '', 'Double Parking Violation': '', 'Latitude': '', 'Longitude': '', 'Community Board': '', 'Community Council ': '', 'Census Tract': '', 'BIN': '', 'BBL': '', 'NTA': ''}\n",
      "{'Summons Number': '7445908067', 'Plate ID': 'GWE1987', 'Registration State': 'NY', 'Plate Type': 'PAS', 'Issue Date': '04/13/2015', 'Violation Code': '19', 'Vehicle Body Type': '4DSD', 'Vehicle Make': 'LEXUS', 'Issuing Agency': 'T', 'Street Code1': '59990', 'Street Code2': '16540', 'Street Code3': '16790', 'Vehicle Expiration Date': '01/01/20170111 12:00:00 PM', 'Violation Location': '102', 'Violation Precinct': '102', 'Issuer Precinct': '102', 'Issuer Code': '355669', 'Issuer Command': 'T402', 'Issuer Squad': 'D', 'Violation Time': '0318P', 'Time First Observed': '', 'Violation County': 'Q', 'Violation In Front Of Or Opposite': 'F', 'House Number': '120-20', 'Street Name': 'Queens Blvd', 'Intersecting Street': '', 'Date First Observed': '01/05/0001 12:00:00 PM', 'Law Section': '408', 'Sub Division': 'c3', 'Violation Legal Code': '', 'Days Parking In Effect    ': 'YYYYY', 'From Hours In Effect': '0300P', 'To Hours In Effect': '1000P', 'Vehicle Color': 'GY', 'Unregistered Vehicle?': '', 'Vehicle Year': '2015', 'Meter Number': '', 'Feet From Curb': '0', 'Violation Post Code': '01 4', 'Violation Description': '19-No Stand (bus stop)', 'No Standing or Stopping Violation': '', 'Hydrant Violation': '', 'Double Parking Violation': '', 'Latitude': '', 'Longitude': '', 'Community Board': '', 'Community Council ': '', 'Census Tract': '', 'BIN': '', 'BBL': '', 'NTA': ''}\n",
      "{'Summons Number': '7037692864', 'Plate ID': 'T671196C', 'Registration State': 'NY', 'Plate Type': 'PAS', 'Issue Date': '05/19/2015', 'Violation Code': '19', 'Vehicle Body Type': '4DSD', 'Vehicle Make': 'CHRYS', 'Issuing Agency': 'T', 'Street Code1': '36090', 'Street Code2': '10410', 'Street Code3': '24690', 'Vehicle Expiration Date': '01/01/88888888 12:00:00 PM', 'Violation Location': '0028', 'Violation Precinct': '28', 'Issuer Precinct': '28', 'Issuer Code': '341248', 'Issuer Command': 'T103', 'Issuer Squad': 'X', 'Violation Time': '0410P', 'Time First Observed': '', 'Violation County': 'NY', 'Violation In Front Of Or Opposite': 'F', 'House Number': '66', 'Street Name': 'W 116th St', 'Intersecting Street': '', 'Date First Observed': '01/05/0001 12:00:00 PM', 'Law Section': '408', 'Sub Division': 'c3', 'Violation Legal Code': '', 'Days Parking In Effect    ': 'YYYYYYY', 'From Hours In Effect': '', 'To Hours In Effect': '', 'Vehicle Color': 'BLACK', 'Unregistered Vehicle?': '', 'Vehicle Year': '0', 'Meter Number': '', 'Feet From Curb': '0', 'Violation Post Code': '19 7', 'Violation Description': '19-No Stand (bus stop)', 'No Standing or Stopping Violation': '', 'Hydrant Violation': '', 'Double Parking Violation': '', 'Latitude': '', 'Longitude': '', 'Community Board': '', 'Community Council ': '', 'Census Tract': '', 'BIN': '', 'BBL': '', 'NTA': ''}\n"
     ]
    }
   ],
   "source": [
    "df_csv = csv.DictReader(open(\"Parking_2015.csv\"))\n",
    "i=0\n",
    "for row in df_csv:\n",
    "        print(row)\n",
    "        i += 1\n",
    "        if i == 5:\n",
    "            break"
   ]
  },
  {
   "cell_type": "code",
   "execution_count": 8,
   "id": "certain-iraqi",
   "metadata": {
    "ExecuteTime": {
     "end_time": "2021-04-04T17:24:54.036977Z",
     "start_time": "2021-04-04T17:24:39.290881Z"
    }
   },
   "outputs": [
    {
     "data": {
      "text/html": [
       "<style type='text/css'>\n",
       ".datatable table.frame { margin-bottom: 0; }\n",
       ".datatable table.frame thead { border-bottom: none; }\n",
       ".datatable table.frame tr.coltypes td {  color: #FFFFFF;  line-height: 6px;  padding: 0 0.5em;}\n",
       ".datatable .bool    { background: #DDDD99; }\n",
       ".datatable .object  { background: #565656; }\n",
       ".datatable .int     { background: #5D9E5D; }\n",
       ".datatable .float   { background: #4040CC; }\n",
       ".datatable .str     { background: #CC4040; }\n",
       ".datatable .row_index {  background: var(--jp-border-color3);  border-right: 1px solid var(--jp-border-color0);  color: var(--jp-ui-font-color3);  font-size: 9px;}\n",
       ".datatable .frame tr.coltypes .row_index {  background: var(--jp-border-color0);}\n",
       ".datatable th:nth-child(2) { padding-left: 12px; }\n",
       ".datatable .hellipsis {  color: var(--jp-cell-editor-border-color);}\n",
       ".datatable .vellipsis {  background: var(--jp-layout-color0);  color: var(--jp-cell-editor-border-color);}\n",
       ".datatable .na {  color: var(--jp-cell-editor-border-color);  font-size: 80%;}\n",
       ".datatable .footer { font-size: 9px; }\n",
       ".datatable .frame_dimensions {  background: var(--jp-border-color3);  border-top: 1px solid var(--jp-border-color0);  color: var(--jp-ui-font-color3);  display: inline-block;  opacity: 0.6;  padding: 1px 10px 1px 5px;}\n",
       "</style>\n"
      ],
      "text/plain": [
       "<IPython.core.display.HTML object>"
      ]
     },
     "metadata": {},
     "output_type": "display_data"
    },
    {
     "data": {
      "text/html": [
       "<div class='datatable'>\n",
       "  <table class='frame'>\n",
       "  <thead>\n",
       "    <tr class='colnames'><td class='row_index'></td><th>Summons Number</th><th>Plate ID</th><th>Registration State</th><th>Plate Type</th><th>Issue Date</th><th>Violation Code</th><th>Vehicle Body Type</th><th>Vehicle Make</th><th>Issuing Agency</th><th>Street Code1</th><th class='vellipsis'>&hellip;</th><th>Community Council</th><th>Census Tract</th><th>BIN</th><th>BBL</th><th>NTA</th></tr>\n",
       "    <tr class='coltypes'><td class='row_index'></td><td class='int' title='int64'>&#x25AA;&#x25AA;&#x25AA;&#x25AA;&#x25AA;&#x25AA;&#x25AA;&#x25AA;</td><td class='str' title='str32'>&#x25AA;&#x25AA;&#x25AA;&#x25AA;</td><td class='str' title='str32'>&#x25AA;&#x25AA;&#x25AA;&#x25AA;</td><td class='str' title='str32'>&#x25AA;&#x25AA;&#x25AA;&#x25AA;</td><td class='str' title='str32'>&#x25AA;&#x25AA;&#x25AA;&#x25AA;</td><td class='int' title='int32'>&#x25AA;&#x25AA;&#x25AA;&#x25AA;</td><td class='str' title='str32'>&#x25AA;&#x25AA;&#x25AA;&#x25AA;</td><td class='str' title='str32'>&#x25AA;&#x25AA;&#x25AA;&#x25AA;</td><td class='str' title='str32'>&#x25AA;&#x25AA;&#x25AA;&#x25AA;</td><td class='int' title='int32'>&#x25AA;&#x25AA;&#x25AA;&#x25AA;</td><td></td><td class='bool' title='bool8'>&#x25AA;</td><td class='bool' title='bool8'>&#x25AA;</td><td class='bool' title='bool8'>&#x25AA;</td><td class='bool' title='bool8'>&#x25AA;</td><td class='bool' title='bool8'>&#x25AA;</td></tr>\n",
       "  </thead>\n",
       "  <tbody>\n",
       "    <tr><td class='row_index'>0</td><td>8002531292</td><td>EPC5238</td><td>NY</td><td>PAS</td><td>10/01/2014</td><td>21</td><td>SUBN</td><td>CHEVR</td><td>T</td><td>20390</td><td class=vellipsis>&hellip;</td><td><span class=na>NA</span></td><td><span class=na>NA</span></td><td><span class=na>NA</span></td><td><span class=na>NA</span></td><td><span class=na>NA</span></td></tr>\n",
       "    <tr><td class='row_index'>1</td><td>8015318440</td><td>5298MD</td><td>NY</td><td>COM</td><td>03/06/2015</td><td>14</td><td>VAN</td><td>FRUEH</td><td>T</td><td>27790</td><td class=vellipsis>&hellip;</td><td><span class=na>NA</span></td><td><span class=na>NA</span></td><td><span class=na>NA</span></td><td><span class=na>NA</span></td><td><span class=na>NA</span></td></tr>\n",
       "    <tr><td class='row_index'>2</td><td>7611181981</td><td>FYW2775</td><td>NY</td><td>PAS</td><td>07/28/2014</td><td>46</td><td>SUBN</td><td>SUBAR</td><td>T</td><td>8130</td><td class=vellipsis>&hellip;</td><td><span class=na>NA</span></td><td><span class=na>NA</span></td><td><span class=na>NA</span></td><td><span class=na>NA</span></td><td><span class=na>NA</span></td></tr>\n",
       "    <tr><td class='row_index'>3</td><td>7445908067</td><td>GWE1987</td><td>NY</td><td>PAS</td><td>04/13/2015</td><td>19</td><td>4DSD</td><td>LEXUS</td><td>T</td><td>59990</td><td class=vellipsis>&hellip;</td><td><span class=na>NA</span></td><td><span class=na>NA</span></td><td><span class=na>NA</span></td><td><span class=na>NA</span></td><td><span class=na>NA</span></td></tr>\n",
       "    <tr><td class='row_index'>4</td><td>7037692864</td><td>T671196C</td><td>NY</td><td>PAS</td><td>05/19/2015</td><td>19</td><td>4DSD</td><td>CHRYS</td><td>T</td><td>36090</td><td class=vellipsis>&hellip;</td><td><span class=na>NA</span></td><td><span class=na>NA</span></td><td><span class=na>NA</span></td><td><span class=na>NA</span></td><td><span class=na>NA</span></td></tr>\n",
       "    <tr><td class='row_index'>5</td><td>7704791394</td><td>JJF6834</td><td>PA</td><td>PAS</td><td>11/20/2014</td><td>21</td><td>4DSD</td><td>NISSA</td><td>T</td><td>74230</td><td class=vellipsis>&hellip;</td><td><span class=na>NA</span></td><td><span class=na>NA</span></td><td><span class=na>NA</span></td><td><span class=na>NA</span></td><td><span class=na>NA</span></td></tr>\n",
       "    <tr><td class='row_index'>6</td><td>7541599104</td><td>FYP8263</td><td>NY</td><td>PAS</td><td>08/01/2014</td><td>21</td><td>SUBN</td><td>HONDA</td><td>T</td><td>77530</td><td class=vellipsis>&hellip;</td><td><span class=na>NA</span></td><td><span class=na>NA</span></td><td><span class=na>NA</span></td><td><span class=na>NA</span></td><td><span class=na>NA</span></td></tr>\n",
       "    <tr><td class='row_index'>7</td><td>7443513951</td><td>FZL7450</td><td>NY</td><td>PAS</td><td>07/19/2014</td><td>71</td><td>4DSD</td><td>VOLVO</td><td>T</td><td>49210</td><td class=vellipsis>&hellip;</td><td><span class=na>NA</span></td><td><span class=na>NA</span></td><td><span class=na>NA</span></td><td><span class=na>NA</span></td><td><span class=na>NA</span></td></tr>\n",
       "    <tr><td class='row_index'>8</td><td>7426321423</td><td>86318MA</td><td>NY</td><td>COM</td><td>09/23/2014</td><td>69</td><td>VAN</td><td>CHEVR</td><td>T</td><td>21690</td><td class=vellipsis>&hellip;</td><td><span class=na>NA</span></td><td><span class=na>NA</span></td><td><span class=na>NA</span></td><td><span class=na>NA</span></td><td><span class=na>NA</span></td></tr>\n",
       "    <tr><td class='row_index'>9</td><td>8017159560</td><td>GKX8095</td><td>NY</td><td>PAS</td><td>01/20/2015</td><td>71</td><td>4DSD</td><td>LEXUS</td><td>T</td><td>35490</td><td class=vellipsis>&hellip;</td><td><span class=na>NA</span></td><td><span class=na>NA</span></td><td><span class=na>NA</span></td><td><span class=na>NA</span></td><td><span class=na>NA</span></td></tr>\n",
       "  </tbody>\n",
       "  </table>\n",
       "  <div class='footer'>\n",
       "    <div class='frame_dimensions'>10 rows &times; 51 columns</div>\n",
       "  </div>\n",
       "</div>\n"
      ],
      "text/plain": [
       "<Frame#2a203963cc0 10x51>"
      ]
     },
     "execution_count": 8,
     "metadata": {},
     "output_type": "execute_result"
    }
   ],
   "source": [
    "df_dt = dt.fread(\"Parking_2015.csv\")\n",
    "df_dt.head()"
   ]
  },
  {
   "cell_type": "markdown",
   "id": "frank-timing",
   "metadata": {},
   "source": [
    "## Conclusion\n",
    "\n",
    "<p style=\"font-size:18px;\">\n",
    "    Based on the executed times, \"dask\" is the best in this scanrio.\n",
    "</p>"
   ]
  },
  {
   "cell_type": "markdown",
   "id": "indoor-drill",
   "metadata": {
    "heading_collapsed": true
   },
   "source": [
    "# Use YAML File"
   ]
  },
  {
   "cell_type": "code",
   "execution_count": 79,
   "id": "wrong-comparative",
   "metadata": {
    "ExecuteTime": {
     "end_time": "2021-04-12T18:52:29.582678Z",
     "start_time": "2021-04-12T18:52:29.552665Z"
    },
    "hidden": true
   },
   "outputs": [],
   "source": [
    "with open(\"config.yaml\", \"r\") as ymlfile:\n",
    "    cfg = Box(yaml.safe_load(ymlfile))"
   ]
  },
  {
   "cell_type": "code",
   "execution_count": 48,
   "id": "independent-alaska",
   "metadata": {
    "ExecuteTime": {
     "end_time": "2021-04-12T18:15:53.356437Z",
     "start_time": "2021-04-12T18:15:53.336426Z"
    },
    "hidden": true
   },
   "outputs": [],
   "source": [
    "def read_data_summary(config):\n",
    "    data = cfg.input.name+'.'+cfg.input.format\n",
    "    df_dask = dd.read_csv(data, delimiter=cfg.input.delimiter, dtype=cfg.input.dtypes)\n",
    "    \n",
    "    print(f'The size of the file is: {os.stat(data).st_size} Bytes')\n",
    "    print(f'It has: {len(df_dask.columns)} Columns and {len(df_dask)} Rows')\n",
    "    return df_dask"
   ]
  },
  {
   "cell_type": "code",
   "execution_count": 49,
   "id": "constitutional-phone",
   "metadata": {
    "ExecuteTime": {
     "end_time": "2021-04-12T18:17:38.048483Z",
     "start_time": "2021-04-12T18:15:55.939448Z"
    },
    "hidden": true
   },
   "outputs": [
    {
     "name": "stdout",
     "output_type": "stream",
     "text": [
      "The size of the file is: 2864071408 Bytes\n",
      "It has: 51 Columns and 11809233 Rows\n"
     ]
    }
   ],
   "source": [
    "df = read_data_summary(cfg)"
   ]
  },
  {
   "cell_type": "code",
   "execution_count": 84,
   "id": "adjustable-novel",
   "metadata": {
    "ExecuteTime": {
     "end_time": "2021-04-12T18:53:43.300929Z",
     "start_time": "2021-04-12T18:53:43.278933Z"
    },
    "hidden": true
   },
   "outputs": [],
   "source": [
    "def validate_data(raw_df):\n",
    "    trusted_columns = list(map(lambda x: x.lower(),  cfg.input.columns))\n",
    "    raw_columns = list(map(lambda x: x.lower(),  raw_df.columns))\n",
    "    \n",
    "    trusted_columns = [x.strip(' ') for x in trusted_columns]\n",
    "    raw_columns = [x.strip(' ') for x in raw_columns]\n",
    "    \n",
    "    while(True):\n",
    "        if len(raw_columns)!=len(trusted_columns):\n",
    "            print(f'Count of columns are invalid! It should be {len(trusted_columns)}, but it is {len(raw_columns)}')\n",
    "            return\n",
    "        if raw_columns.sort()!=trusted_columns.sort():\n",
    "            print('Columns are invalid!')\n",
    "            return\n",
    "        if raw_columns.sort()!=trusted_columns.sort():\n",
    "            print(f'Columns are invalid!')\n",
    "            print(f'Columns in Uploaded Dataset: {list(set(raw_columns).difference(trusted_columns))} VS. Columns in Config File: {list(set(trusted_columns).difference(raw_columns))}')\n",
    "            return\n",
    "    \n",
    "    \n",
    "        output_file = cfg.output.name+\".\"+cfg.output.format\n",
    "        output_path = cfg.output.path+output_file\n",
    "        df.to_csv(output_path, header=None, index=None, sep=cfg.output.delimiter, compression='infer')\n",
    "        print(f'File is uploaded successfully and written to: {output_file}')\n",
    "        return\n",
    "    "
   ]
  },
  {
   "cell_type": "code",
   "execution_count": 85,
   "id": "adjusted-minister",
   "metadata": {
    "ExecuteTime": {
     "end_time": "2021-04-12T19:00:27.394769Z",
     "start_time": "2021-04-12T18:53:45.575071Z"
    },
    "hidden": true
   },
   "outputs": [
    {
     "name": "stdout",
     "output_type": "stream",
     "text": [
      "File is uploaded successfully and written to: trusted_Parking_2015.gz\n"
     ]
    }
   ],
   "source": [
    "validate_data(df)"
   ]
  }
 ],
 "metadata": {
  "kernelspec": {
   "display_name": "Python 3",
   "language": "python",
   "name": "python3"
  },
  "language_info": {
   "codemirror_mode": {
    "name": "ipython",
    "version": 3
   },
   "file_extension": ".py",
   "mimetype": "text/x-python",
   "name": "python",
   "nbconvert_exporter": "python",
   "pygments_lexer": "ipython3",
   "version": "3.8.5"
  },
  "toc": {
   "base_numbering": 1,
   "nav_menu": {},
   "number_sections": true,
   "sideBar": true,
   "skip_h1_title": false,
   "title_cell": "Table of Contents",
   "title_sidebar": "Contents",
   "toc_cell": false,
   "toc_position": {},
   "toc_section_display": true,
   "toc_window_display": false
  }
 },
 "nbformat": 4,
 "nbformat_minor": 5
}
